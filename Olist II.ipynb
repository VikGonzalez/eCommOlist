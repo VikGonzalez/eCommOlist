{
 "cells": [
  {
   "cell_type": "code",
   "execution_count": 1,
   "metadata": {},
   "outputs": [],
   "source": [
    "#Import Dependencies\n",
    "import matplotlib.pyplot as plt\n",
    "import pandas as pd\n",
    "import scipy.stats as st\n",
    "import numpy as np\n",
    "import gmaps\n",
    "from api_keys import g_key\n"
   ]
  },
  {
   "cell_type": "code",
   "execution_count": 2,
   "metadata": {},
   "outputs": [],
   "source": [
    "#File to load\n",
    "\n",
    "file_to_load = \"Resources/olist_data.csv\""
   ]
  },
  {
   "cell_type": "code",
   "execution_count": 3,
   "metadata": {},
   "outputs": [],
   "source": [
    "#Read file and store into Pandas data frame\n",
    "olist_data=pd.read_csv(file_to_load)"
   ]
  },
  {
   "cell_type": "code",
   "execution_count": 4,
   "metadata": {
    "scrolled": true
   },
   "outputs": [
    {
     "data": {
      "text/html": [
       "<div>\n",
       "<style scoped>\n",
       "    .dataframe tbody tr th:only-of-type {\n",
       "        vertical-align: middle;\n",
       "    }\n",
       "\n",
       "    .dataframe tbody tr th {\n",
       "        vertical-align: top;\n",
       "    }\n",
       "\n",
       "    .dataframe thead th {\n",
       "        text-align: right;\n",
       "    }\n",
       "</style>\n",
       "<table border=\"1\" class=\"dataframe\">\n",
       "  <thead>\n",
       "    <tr style=\"text-align: right;\">\n",
       "      <th></th>\n",
       "      <th>Unnamed: 0</th>\n",
       "      <th>order_id</th>\n",
       "      <th>order_item_id</th>\n",
       "      <th>product_id</th>\n",
       "      <th>seller_id</th>\n",
       "      <th>price</th>\n",
       "      <th>freight_value</th>\n",
       "      <th>product_category_name</th>\n",
       "      <th>Total_order_values</th>\n",
       "      <th>Total_freight_values</th>\n",
       "      <th>Total_Revenue_by_order</th>\n",
       "      <th>zip_code_prefix</th>\n",
       "      <th>seller_city</th>\n",
       "      <th>seller_state</th>\n",
       "      <th>geolocation_lat</th>\n",
       "      <th>geolocation_lng</th>\n",
       "      <th>geolocation_city</th>\n",
       "      <th>geolocation_state</th>\n",
       "      <th>product_category_name_english</th>\n",
       "    </tr>\n",
       "  </thead>\n",
       "  <tbody>\n",
       "    <tr>\n",
       "      <td>0</td>\n",
       "      <td>0</td>\n",
       "      <td>00010242fe8c5a6d1ba2dd792cb16214</td>\n",
       "      <td>1</td>\n",
       "      <td>4244733e06e7ecb4970a6e2683c13e61</td>\n",
       "      <td>48436dade18ac8b2bce089ec2a041202</td>\n",
       "      <td>58.9</td>\n",
       "      <td>13.29</td>\n",
       "      <td>cool_stuff</td>\n",
       "      <td>58.9</td>\n",
       "      <td>13.29</td>\n",
       "      <td>15.1599</td>\n",
       "      <td>27277</td>\n",
       "      <td>volta redonda</td>\n",
       "      <td>SP</td>\n",
       "      <td>-22.498183</td>\n",
       "      <td>-44.123614</td>\n",
       "      <td>volta redonda</td>\n",
       "      <td>RJ</td>\n",
       "      <td>cool_stuff</td>\n",
       "    </tr>\n",
       "    <tr>\n",
       "      <td>1</td>\n",
       "      <td>1</td>\n",
       "      <td>00010242fe8c5a6d1ba2dd792cb16214</td>\n",
       "      <td>1</td>\n",
       "      <td>4244733e06e7ecb4970a6e2683c13e61</td>\n",
       "      <td>48436dade18ac8b2bce089ec2a041202</td>\n",
       "      <td>58.9</td>\n",
       "      <td>13.29</td>\n",
       "      <td>cool_stuff</td>\n",
       "      <td>58.9</td>\n",
       "      <td>13.29</td>\n",
       "      <td>15.1599</td>\n",
       "      <td>27277</td>\n",
       "      <td>volta redonda</td>\n",
       "      <td>SP</td>\n",
       "      <td>-22.487885</td>\n",
       "      <td>-44.131566</td>\n",
       "      <td>volta redonda</td>\n",
       "      <td>RJ</td>\n",
       "      <td>cool_stuff</td>\n",
       "    </tr>\n",
       "    <tr>\n",
       "      <td>2</td>\n",
       "      <td>2</td>\n",
       "      <td>00010242fe8c5a6d1ba2dd792cb16214</td>\n",
       "      <td>1</td>\n",
       "      <td>4244733e06e7ecb4970a6e2683c13e61</td>\n",
       "      <td>48436dade18ac8b2bce089ec2a041202</td>\n",
       "      <td>58.9</td>\n",
       "      <td>13.29</td>\n",
       "      <td>cool_stuff</td>\n",
       "      <td>58.9</td>\n",
       "      <td>13.29</td>\n",
       "      <td>15.1599</td>\n",
       "      <td>27277</td>\n",
       "      <td>volta redonda</td>\n",
       "      <td>SP</td>\n",
       "      <td>-22.501227</td>\n",
       "      <td>-44.132443</td>\n",
       "      <td>volta redonda</td>\n",
       "      <td>RJ</td>\n",
       "      <td>cool_stuff</td>\n",
       "    </tr>\n",
       "    <tr>\n",
       "      <td>3</td>\n",
       "      <td>3</td>\n",
       "      <td>00010242fe8c5a6d1ba2dd792cb16214</td>\n",
       "      <td>1</td>\n",
       "      <td>4244733e06e7ecb4970a6e2683c13e61</td>\n",
       "      <td>48436dade18ac8b2bce089ec2a041202</td>\n",
       "      <td>58.9</td>\n",
       "      <td>13.29</td>\n",
       "      <td>cool_stuff</td>\n",
       "      <td>58.9</td>\n",
       "      <td>13.29</td>\n",
       "      <td>15.1599</td>\n",
       "      <td>27277</td>\n",
       "      <td>volta redonda</td>\n",
       "      <td>SP</td>\n",
       "      <td>-22.500389</td>\n",
       "      <td>-44.124773</td>\n",
       "      <td>volta redonda</td>\n",
       "      <td>RJ</td>\n",
       "      <td>cool_stuff</td>\n",
       "    </tr>\n",
       "    <tr>\n",
       "      <td>4</td>\n",
       "      <td>4</td>\n",
       "      <td>00010242fe8c5a6d1ba2dd792cb16214</td>\n",
       "      <td>1</td>\n",
       "      <td>4244733e06e7ecb4970a6e2683c13e61</td>\n",
       "      <td>48436dade18ac8b2bce089ec2a041202</td>\n",
       "      <td>58.9</td>\n",
       "      <td>13.29</td>\n",
       "      <td>cool_stuff</td>\n",
       "      <td>58.9</td>\n",
       "      <td>13.29</td>\n",
       "      <td>15.1599</td>\n",
       "      <td>27277</td>\n",
       "      <td>volta redonda</td>\n",
       "      <td>SP</td>\n",
       "      <td>-22.499963</td>\n",
       "      <td>-44.127571</td>\n",
       "      <td>volta redonda</td>\n",
       "      <td>RJ</td>\n",
       "      <td>cool_stuff</td>\n",
       "    </tr>\n",
       "  </tbody>\n",
       "</table>\n",
       "</div>"
      ],
      "text/plain": [
       "   Unnamed: 0                          order_id  order_item_id  \\\n",
       "0           0  00010242fe8c5a6d1ba2dd792cb16214              1   \n",
       "1           1  00010242fe8c5a6d1ba2dd792cb16214              1   \n",
       "2           2  00010242fe8c5a6d1ba2dd792cb16214              1   \n",
       "3           3  00010242fe8c5a6d1ba2dd792cb16214              1   \n",
       "4           4  00010242fe8c5a6d1ba2dd792cb16214              1   \n",
       "\n",
       "                         product_id                         seller_id  price  \\\n",
       "0  4244733e06e7ecb4970a6e2683c13e61  48436dade18ac8b2bce089ec2a041202   58.9   \n",
       "1  4244733e06e7ecb4970a6e2683c13e61  48436dade18ac8b2bce089ec2a041202   58.9   \n",
       "2  4244733e06e7ecb4970a6e2683c13e61  48436dade18ac8b2bce089ec2a041202   58.9   \n",
       "3  4244733e06e7ecb4970a6e2683c13e61  48436dade18ac8b2bce089ec2a041202   58.9   \n",
       "4  4244733e06e7ecb4970a6e2683c13e61  48436dade18ac8b2bce089ec2a041202   58.9   \n",
       "\n",
       "   freight_value product_category_name  Total_order_values  \\\n",
       "0          13.29            cool_stuff                58.9   \n",
       "1          13.29            cool_stuff                58.9   \n",
       "2          13.29            cool_stuff                58.9   \n",
       "3          13.29            cool_stuff                58.9   \n",
       "4          13.29            cool_stuff                58.9   \n",
       "\n",
       "   Total_freight_values  Total_Revenue_by_order  zip_code_prefix  \\\n",
       "0                 13.29                 15.1599            27277   \n",
       "1                 13.29                 15.1599            27277   \n",
       "2                 13.29                 15.1599            27277   \n",
       "3                 13.29                 15.1599            27277   \n",
       "4                 13.29                 15.1599            27277   \n",
       "\n",
       "     seller_city seller_state  geolocation_lat  geolocation_lng  \\\n",
       "0  volta redonda           SP       -22.498183       -44.123614   \n",
       "1  volta redonda           SP       -22.487885       -44.131566   \n",
       "2  volta redonda           SP       -22.501227       -44.132443   \n",
       "3  volta redonda           SP       -22.500389       -44.124773   \n",
       "4  volta redonda           SP       -22.499963       -44.127571   \n",
       "\n",
       "  geolocation_city geolocation_state product_category_name_english  \n",
       "0    volta redonda                RJ                    cool_stuff  \n",
       "1    volta redonda                RJ                    cool_stuff  \n",
       "2    volta redonda                RJ                    cool_stuff  \n",
       "3    volta redonda                RJ                    cool_stuff  \n",
       "4    volta redonda                RJ                    cool_stuff  "
      ]
     },
     "execution_count": 4,
     "metadata": {},
     "output_type": "execute_result"
    }
   ],
   "source": [
    "#Print Header\n",
    "olist_data.head()"
   ]
  },
  {
   "cell_type": "code",
   "execution_count": 5,
   "metadata": {},
   "outputs": [
    {
     "data": {
      "text/plain": [
       "(16025551, 19)"
      ]
     },
     "execution_count": 5,
     "metadata": {},
     "output_type": "execute_result"
    }
   ],
   "source": [
    "olist_data.shape"
   ]
  },
  {
   "cell_type": "markdown",
   "metadata": {},
   "source": [
    "### Performed some basic operations"
   ]
  },
  {
   "cell_type": "code",
   "execution_count": null,
   "metadata": {},
   "outputs": [],
   "source": [
    "#Seller count Operation\n",
    "Sellers_count = olist_data[\"seller_id\"].unique()\n",
    "len (Sellers_count)\n"
   ]
  },
  {
   "cell_type": "code",
   "execution_count": null,
   "metadata": {},
   "outputs": [],
   "source": [
    "#Total Revenue Operation\n",
    "Total_Revenue = round(olist_data[\"Total_Revenue_by_order\"].sum(),2)\n",
    "Total_Revenue"
   ]
  },
  {
   "cell_type": "code",
   "execution_count": null,
   "metadata": {},
   "outputs": [],
   "source": [
    "#Max Revenue Operation\n",
    "Max_Revenue = round(olist_data[\"Total_Revenue_by_order\"].max(),2)\n",
    "Max_Revenue"
   ]
  },
  {
   "cell_type": "code",
   "execution_count": null,
   "metadata": {},
   "outputs": [],
   "source": [
    "#Min Revenue Operation\n",
    "Min_Revenue = round(olist_data[\"Total_Revenue_by_order\"].min(),2)\n",
    "Min_Revenue"
   ]
  },
  {
   "cell_type": "code",
   "execution_count": null,
   "metadata": {},
   "outputs": [],
   "source": [
    "#Average Revenue Operation\n",
    "Average_Revenue = round(olist_data[\"Total_Revenue_by_order\"].mean(),2)\n",
    "Average_Revenue"
   ]
  },
  {
   "cell_type": "code",
   "execution_count": null,
   "metadata": {},
   "outputs": [],
   "source": [
    "#Category number Operation\n",
    "Category_count = olist_data[\"product_category_name_english\"].unique()\n",
    "len (Category_count)\n"
   ]
  },
  {
   "cell_type": "code",
   "execution_count": null,
   "metadata": {},
   "outputs": [],
   "source": [
    "#Order Count Operation\n",
    "Order_count = olist_data[\"order_id\"].unique()\n",
    "len (Order_count)"
   ]
  },
  {
   "cell_type": "code",
   "execution_count": null,
   "metadata": {},
   "outputs": [],
   "source": [
    "#Number of Products Operation\n",
    "Product_count = olist_data[\"product_id\"].unique()\n",
    "len(Product_count)"
   ]
  },
  {
   "cell_type": "code",
   "execution_count": null,
   "metadata": {},
   "outputs": [],
   "source": [
    "#Average Items by order Operation\n",
    "Average_items_by_order = round(olist_data[\"order_item_id\"].mean(),2)\n",
    "Average_items_by_order"
   ]
  },
  {
   "cell_type": "markdown",
   "metadata": {},
   "source": [
    "## Summary Data Table"
   ]
  },
  {
   "cell_type": "code",
   "execution_count": null,
   "metadata": {},
   "outputs": [],
   "source": [
    "#Display Summary table into a Data Frame \n",
    "Summary_df= pd.DataFrame({\"Number of Sellers\": [len (Sellers_count)],\n",
    "                         \"Number of Categories\":[len (Category_count)],\n",
    "                         \"Total Unique Products\":[len (Product_count)],\n",
    "                         \"Total Orders\":[len (Order_count)],\n",
    "                         \"Average Items by Order\":[Average_items_by_order],\n",
    "                         \"Total Revenue\":[Total_Revenue],\n",
    "                         \"Average Revenue per Order\":[Average_Revenue],\n",
    "                         \"Max Revenue per Order\":[Max_Revenue],\n",
    "                         \"Min Revenue per Order\":[Min_Revenue]\n",
    "                         })\n",
    "#Formatting\n",
    "Summary_df[\"Number of Sellers\"] = Summary_df[\"Number of Sellers\"].map(\" {:,.0f}\".format)\n",
    "Summary_df[\"Total Unique Products\"] = Summary_df[\"Total Unique Products\"].map(\" {:,.0f}\".format)\n",
    "Summary_df[\"Total Orders\"] = Summary_df[\"Total Orders\"].map(\" {:,.0f}\".format)\n",
    "Summary_df[\"Total Revenue\"] = Summary_df[\"Total Revenue\"].map(\"$ {:,.0f}\".format)\n",
    "Summary_df[\"Average Revenue per Order\"] = Summary_df[\"Average Revenue per Order\"].map(\"$ {:,.1f}\".format)\n",
    "Summary_df[\"Max Revenue per Order\"] = Summary_df[\"Max Revenue per Order\"].map(\"$ {:,.1f}\".format)\n",
    "Summary_df[\"Min Revenue per Order\"] = Summary_df[\"Min Revenue per Order\"].map(\"$ {:,.1f}\".format)\n",
    "Summary_df"
   ]
  },
  {
   "cell_type": "markdown",
   "metadata": {},
   "source": [
    "## Revenue by Product Category"
   ]
  },
  {
   "cell_type": "code",
   "execution_count": null,
   "metadata": {},
   "outputs": [],
   "source": [
    "#Display Data Frame of Revenue by product Category \n",
    "categories_group = olist_data.groupby(\"product_category_name_english\").agg({\n",
    "    \"Total_Revenue_by_order\":[\"sum\",\"count\",\"min\",\"max\",\"mean\"]  \n",
    "})\n",
    "categories_group.columns=categories_group.columns.droplevel(0)\n",
    "categories_group"
   ]
  },
  {
   "cell_type": "code",
   "execution_count": null,
   "metadata": {},
   "outputs": [],
   "source": [
    "#Display Pie Graph of Top 10 Revenue by Category\n",
    "categories_group.sort_values(by=\"sum\",ascending=False).iloc[0:10].plot.pie(y=\"sum\",figsize=(9.5, 9.5),startangle=140,autopct=\"%1.1f%%\")"
   ]
  },
  {
   "cell_type": "code",
   "execution_count": null,
   "metadata": {},
   "outputs": [],
   "source": [
    "categories_df = categories_group.sort_values(by='sum',ascending = False)"
   ]
  },
  {
   "cell_type": "code",
   "execution_count": null,
   "metadata": {},
   "outputs": [],
   "source": [
    "#Display Boxplot to place average Revenue by category and visualize outlayers\n",
    "fig1, ax1 = plt.subplots()\n",
    "ax1.boxplot([categories_df[\"sum\"]])\n",
    "ax1.set_title('Revenue by Category')\n",
    "ax1.set_ylabel('Revenue')\n",
    "plt.show()"
   ]
  },
  {
   "cell_type": "markdown",
   "metadata": {},
   "source": [
    "## Revenue by State"
   ]
  },
  {
   "cell_type": "code",
   "execution_count": null,
   "metadata": {},
   "outputs": [],
   "source": [
    "#Display Data Frame of Revenue by State\n",
    "cities_group = olist_data.groupby(\"geolocation_state\").agg({\n",
    "    \"Total_Revenue_by_order\":[\"sum\",\"count\",\"min\",\"max\",\"mean\"],\n",
    "    \"geolocation_lat\":\"first\",\n",
    "    \"geolocation_lng\":\"first\"   \n",
    "})\n",
    "cities_group=cities_group.reset_index()\n",
    "cities_group.columns=cities_group.columns.droplevel(0)\n",
    "cities_group.columns=[\"State\",\"Total Revenue\",\"Total Orders\",\"Min Revenue\",\"Max Revenue\",\"Mean Revenue\",\"Geo Lat\",\"Geo Lng\"]\n",
    "cities_group"
   ]
  },
  {
   "cell_type": "code",
   "execution_count": null,
   "metadata": {},
   "outputs": [],
   "source": [
    "#Display Pie Graph of Top 10 Revenue by State\n",
    "cities_group.sort_values(by=\"Total Revenue\",ascending=False).iloc[0:10].plot.pie(y=\"Total Revenue\",figsize=(9,9),startangle=180,autopct=\"%1.1f%%\")\n",
    "cities_df = cities_group.sort_values(by=\"Total Revenue\",ascending=False)"
   ]
  },
  {
   "cell_type": "code",
   "execution_count": null,
   "metadata": {},
   "outputs": [],
   "source": [
    "#Display Boxplot to place average Revenue by State and visualize outlayers\n",
    "fig1, ax1 = plt.subplots()\n",
    "plt.boxplot([cities_df[\"Total Revenue\"]])\n",
    "ax1.set_title('Revenue by State')\n",
    "ax1.set_ylabel('Revenue')\n",
    "plt.show()"
   ]
  },
  {
   "cell_type": "markdown",
   "metadata": {},
   "source": [
    "## Sao Paulo Revenue"
   ]
  },
  {
   "cell_type": "code",
   "execution_count": null,
   "metadata": {},
   "outputs": [],
   "source": [
    "#Segmentation of Olist Data by Geolocation State for Sao Paulo\n",
    "sao_paulo_df=olist_data.query(\"geolocation_state=='SP'\")\n",
    "sao_paulo_df"
   ]
  },
  {
   "cell_type": "code",
   "execution_count": null,
   "metadata": {},
   "outputs": [],
   "source": [
    "#Display Data Frame of Sao Paulo Revenue\n",
    "SP_group = sao_paulo_df.groupby(\"product_category_name_english\").agg({\n",
    "    \"Total_Revenue_by_order\":[\"sum\",\"count\",\"min\",\"max\",\"mean\"]})\n",
    "SP_group\n"
   ]
  },
  {
   "cell_type": "code",
   "execution_count": null,
   "metadata": {},
   "outputs": [],
   "source": [
    "#Display Pie Graph of Top 10 Category Products in Sao paulo\n",
    "SP_group.columns = SP_group.columns.droplevel(0)\n",
    "SP_group.sort_values(by=\"sum\",ascending=False).iloc[0:10].plot.pie(y=\"sum\",figsize=(9,9),startangle=180,autopct=\"%1.1f%%\")\n",
    "SP_group = SP_group.sort_values(by=\"sum\",ascending=False)"
   ]
  },
  {
   "cell_type": "code",
   "execution_count": null,
   "metadata": {},
   "outputs": [],
   "source": [
    "#Display Boxplot to place average Revenue by Category and visualize outlayers\n",
    "fig1, ax1 = plt.subplots()\n",
    "plt.boxplot([SP_group[\"sum\"]])\n",
    "ax1.set_title('Revenue by Category')\n",
    "ax1.set_ylabel('Sao Paulo Revenue')\n",
    "plt.show()"
   ]
  },
  {
   "cell_type": "code",
   "execution_count": null,
   "metadata": {
    "scrolled": true
   },
   "outputs": [],
   "source": [
    "Sellers_group = olist_data.groupby(['seller_id','product_category_name_english','geolocation_state'])[\"Total_Revenue_by_order\"].sum()\n",
    "Sellers_group_df=pd.DataFrame(Sellers_group)\n",
    "Sellers_group_df=Sellers_group_df.sort_values([\"Total_Revenue_by_order\"], ascending=False).iloc[0:10]\n",
    "Sellers_group_df[\"Total_Revenue_by_order\"] = Sellers_group_df[\"Total_Revenue_by_order\"].map(\"$ {:,.1f}\".format)\n",
    "Sellers_group_df"
   ]
  },
  {
   "cell_type": "markdown",
   "metadata": {},
   "source": [
    "### Heat Map"
   ]
  },
  {
   "cell_type": "code",
   "execution_count": null,
   "metadata": {},
   "outputs": [],
   "source": [
    "Top_10_Cities = cities_group.iloc[0:10]\n",
    "Top_10_Cities"
   ]
  },
  {
   "cell_type": "code",
   "execution_count": null,
   "metadata": {},
   "outputs": [],
   "source": [
    "gmaps.configure(api_key=g_key)\n",
    "layout={\n",
    "    \"width\":\"800px\",\n",
    "    \"height\":\"600px\",\n",
    "    \"border\":\"1px solid black\",\n",
    "    \"padding\":\"5px\",\n",
    "    \"margin\":\"0 auto\"\n",
    "    \n",
    "}\n",
    "max_seller_lat=list(Top_10_Cities[\"geolocation_lat\"])[0]\n",
    "max_seller_lng=list(Top_10_Cities[\"geolocation_lng\"])[0]\n",
    "gmaps_fig=gmaps.figure(\n",
    "    center=(max_seller_lat,max_seller_lng),\n",
    "zoom_level=5,layout=layout)\n",
    "locations= Top_10_Cities[[\"geolocation_lat\",\"geolocation_lng\"]]\n",
    "markers=gmaps.marker_layer(Locations)\n",
    "states=list(Top_10_Cities[\"geolocation_state\"])\n",
    "template=\"\"\"\n",
    "<dl>\n",
    "\n",
    "<dt>State</dt><dd>{geolocation_state}</dd>\n",
    "</dl>\n",
    "\"\"\"\n",
    "marker_layer=gmaps.marker_layer(locations,info_box_content=template,hover_text=states,display_info_box=True)\n",
    "gmaps_fig.add_layer(markers)\n",
    "gmaps_fig.add_layer(marker_layer)\n",
    "gmaps_fig"
   ]
  },
  {
   "cell_type": "code",
   "execution_count": null,
   "metadata": {},
   "outputs": [],
   "source": []
  }
 ],
 "metadata": {
  "kernelspec": {
   "display_name": "Python 3",
   "language": "python",
   "name": "python3"
  },
  "language_info": {
   "codemirror_mode": {
    "name": "ipython",
    "version": 3
   },
   "file_extension": ".py",
   "mimetype": "text/x-python",
   "name": "python",
   "nbconvert_exporter": "python",
   "pygments_lexer": "ipython3",
   "version": "3.7.4"
  }
 },
 "nbformat": 4,
 "nbformat_minor": 2
}
